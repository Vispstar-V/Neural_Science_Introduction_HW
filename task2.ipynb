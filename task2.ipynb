{
 "cells": [
  {
   "cell_type": "code",
   "execution_count": 55,
   "metadata": {},
   "outputs": [],
   "source": [
    "import scipy.io as scio\n",
    "import hdf5storage\n",
    "import numpy as np\n",
    "import matplotlib.pyplot as plt\n",
    "import math"
   ]
  },
  {
   "cell_type": "code",
   "execution_count": 61,
   "metadata": {},
   "outputs": [],
   "source": [
    "data = hdf5storage.loadmat('./data/indy_20160407_02.mat')"
   ]
  },
  {
   "cell_type": "code",
   "execution_count": 62,
   "metadata": {},
   "outputs": [],
   "source": [
    "neuron_spikes = data['spikes']\n",
    "neuron_spikes = neuron_spikes.reshape(-1)\n",
    "\n",
    "cursor_pos = data['cursor_pos']\n",
    "target_pos = data['target_pos']\n",
    "reg_times = data['t'].reshape(-1)"
   ]
  },
  {
   "cell_type": "code",
   "execution_count": 63,
   "metadata": {},
   "outputs": [
    {
     "name": "stderr",
     "output_type": "stream",
     "text": [
      "/tmp/ipykernel_350642/2114295112.py:19: RuntimeWarning: invalid value encountered in true_divide\n",
      "  cursor_vs[i] = cursor_shifts[i] / (reg_times[end_idx]-reg_times[start_idx])\n"
     ]
    }
   ],
   "source": [
    "# Search for the indices where target change \n",
    "tgt_chg_indices = [0]\n",
    "\n",
    "for i in range(1, len(target_pos)):\n",
    "    if np.sum(target_pos[i] == target_pos[i-1]) != 2:\n",
    "        tgt_chg_indices.append(i)\n",
    "\n",
    "# Capture cursor shifts according to the above indices\n",
    "cursor_shifts = np.zeros([len(tgt_chg_indices), 2])\n",
    "\n",
    "cursor_vs = np.zeros([len(tgt_chg_indices), 2])\n",
    "\n",
    "tgt_chg_slices = []\n",
    "\n",
    "for i in range(len(tgt_chg_indices)):\n",
    "    start_idx = tgt_chg_indices[i]\n",
    "    end_idx = tgt_chg_indices[i+1] if i < len(tgt_chg_indices) - 1 else -1\n",
    "    cursor_shifts[i] = cursor_pos[end_idx] - cursor_pos[start_idx]\n",
    "    cursor_vs[i] = cursor_shifts[i] / (reg_times[end_idx]-reg_times[start_idx])\n",
    "    tgt_chg_slices.append([start_idx, end_idx])\n",
    "\n",
    "cursor_shifts_norms = np.linalg.norm(cursor_shifts, axis=1)\n",
    "\n",
    "# keep shifts with norm > 1\n",
    "cursor_shifts = cursor_shifts[cursor_shifts_norms>1]\n",
    "cursor_vs = cursor_vs[cursor_shifts_norms>1]\n",
    "tgt_chg_slices = np.array(tgt_chg_slices)[cursor_shifts_norms>1]\n",
    "normed_cursor_shifts = cursor_shifts / np.linalg.norm(cursor_shifts, axis=1, keepdims=True)\n",
    "\n",
    "# Eight reference directions\n",
    "refer_dirc = np.array([[0., 1.],\n",
    "                       [1./math.sqrt(2), 1./math.sqrt(2)],\n",
    "                       [1., 0.],\n",
    "                       [1./math.sqrt(2), -1./math.sqrt(2)],\n",
    "                       [0., -1.],\n",
    "                       [-1./math.sqrt(2), -1./math.sqrt(2)],\n",
    "                       [-1., 0.],\n",
    "                       [-1./math.sqrt(2), 1./math.sqrt(2)]])\n",
    "\n",
    "# Compute cosine similarity\n",
    "cos_sim = normed_cursor_shifts @ refer_dirc.T\n",
    "\n",
    "# Compute the angle between shifts and reference directions\n",
    "angles = np.arccos(cos_sim) / np.pi * 180\n",
    "\n",
    "# Consider waves with only angle < 10\n",
    "timestamps_slices_collection = [[] for i in range(8)]\n",
    "\n",
    "for i in range(8):\n",
    "    mask = (np.argmin(angles, axis=1)==i) * (np.min(angles, axis=1)<10)\n",
    "    timestamps_slices_collection[i] = (tgt_chg_slices[mask], cursor_vs[mask])\n"
   ]
  },
  {
   "cell_type": "code",
   "execution_count": 64,
   "metadata": {},
   "outputs": [],
   "source": [
    "import bisect\n",
    "import copy\n",
    "\n",
    "from sklearn.linear_model import LinearRegression\n",
    "from sklearn.metrics import r2_score\n",
    "\n",
    "r2_scores = []\n",
    "\n",
    "for i, neuron_spike in enumerate(neuron_spikes):\n",
    "    \n",
    "    firing_rates = []\n",
    "    velocities = []\n",
    "\n",
    "    neuron_spike = neuron_spike.reshape(-1)\n",
    "\n",
    "    if len(neuron_spike) == 0:\n",
    "        continue\n",
    "\n",
    "    for i in range(8):\n",
    "        \n",
    "        index_slices, vs = timestamps_slices_collection[i]\n",
    "        \n",
    "        for i, start_end in enumerate(index_slices):\n",
    "            start, end = start_end\n",
    "\n",
    "            s_start_idx = min(bisect.bisect_left(neuron_spike, reg_times[start]), len(neuron_spike)-1)\n",
    "            s_end_idx   = min(bisect.bisect_right(neuron_spike, reg_times[end]), len(neuron_spike)-1)\n",
    "\n",
    "            s_start, s_end = neuron_spike[s_start_idx], neuron_spike[s_end_idx]\n",
    "\n",
    "            firing_times = s_end_idx - s_start_idx + 1 \n",
    "            firing_interval = s_end - s_start\n",
    "\n",
    "            if firing_interval == 0:\n",
    "                continue\n",
    "            \n",
    "            firing_rates.append(firing_times/firing_interval)\n",
    "            velocities.append(vs[i])\n",
    "\n",
    "    model = LinearRegression()\n",
    "    velocities = np.stack(velocities)\n",
    "    firing_rates = np.array(firing_rates)\n",
    "    \n",
    "    model.fit(velocities, firing_rates)\n",
    "\n",
    "    y_pred = model.predict(velocities)\n",
    "\n",
    "    r2 = r2_score(firing_rates, y_pred)\n",
    "    r2_scores.append(r2)\n",
    "    \n"
   ]
  },
  {
   "cell_type": "code",
   "execution_count": 65,
   "metadata": {},
   "outputs": [
    {
     "data": {
      "image/png": "[encoded data removed]",
      "text/plain": [
       "<Figure size 1440x720 with 1 Axes>"
      ]
     },
     "metadata": {
      "needs_background": "light"
     },
     "output_type": "display_data"
    }
   ],
   "source": [
    "plt.figure(figsize=(20, 10))\n",
    "plt.ylabel('Num neurons', size=20)\n",
    "plt.xlabel('r2 scores', size=20)\n",
    "plt.tick_params(labelsize=18)\n",
    "\n",
    "plt.hist(r2_scores, bins=20)\n",
    "plt.savefig('./imgs/r2_scores.jpg')"
   ]
  }
 ],
 "metadata": {
  "interpreter": {
   "hash": "49efe4d984d8d816747e60ed4acffc9665baae95361546cbd691b0f026f59717"
  },
  "kernelspec": {
   "display_name": "Python 3.8.12 ('ML')",
   "language": "python",
   "name": "python3"
  },
  "language_info": {
   "codemirror_mode": {
    "name": "ipython",
    "version": 3
   },
   "file_extension": ".py",
   "mimetype": "text/x-python",
   "name": "python",
   "nbconvert_exporter": "python",
   "pygments_lexer": "ipython3",
   "version": "3.8.12"
  },
  "orig_nbformat": 4
 },
 "nbformat": 4,
 "nbformat_minor": 2
}
